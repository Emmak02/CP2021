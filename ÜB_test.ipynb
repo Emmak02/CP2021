{
 "metadata": {
  "language_info": {
   "codemirror_mode": {
    "name": "ipython",
    "version": 3
   },
   "file_extension": ".py",
   "mimetype": "text/x-python",
   "name": "python",
   "nbconvert_exporter": "python",
   "pygments_lexer": "ipython3",
   "version": "3.8.5-final"
  },
  "orig_nbformat": 2,
  "kernelspec": {
   "name": "python385jvsc74a57bd0d19aed2f9ff385942ec83a4f86f4f4930b1ae3497cf516ac9cfb19976be32da4",
   "display_name": "Python 3.8.5 64-bit ('compmeth2020': conda)"
  }
 },
 "nbformat": 4,
 "nbformat_minor": 2,
 "cells": [
  {
   "cell_type": "code",
   "execution_count": 1,
   "metadata": {},
   "outputs": [],
   "source": [
    "import matplotlib as plt\n",
    "import numpy as np \n"
   ]
  },
  {
   "source": [
    "# TEST"
   ],
   "cell_type": "markdown",
   "metadata": {}
  }
 ]
}